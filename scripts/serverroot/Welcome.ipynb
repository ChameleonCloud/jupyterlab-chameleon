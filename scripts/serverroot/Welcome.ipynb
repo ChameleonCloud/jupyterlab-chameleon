{
 "cells": [
  {
   "cell_type": "markdown",
   "metadata": {
    "pycharm": {
     "name": "#%% md\n"
    }
   },
   "source": [
    "# Welcome to Jupyter on Chameleon!\n",
    "\n",
    "We have prepared a few tutorials you may want to check out, if you'd like to learn more about Chameleon. They're located in our sharing portal, [Trovi](https://chameleoncloud.org/experiment/share/). Check it out! There are a lot of great resources there. In particular, we include some helpful tutorials and examples. We update and add to these notebooks over time as new features are released or new tutorials are created, so if you haven't checked in a while, take some time to see if there's anything new that looks interesting to you.\n",
    "There are also many user-submitted experiments that may be of interest to you, which can be used as a jumping-off point.\n",
    "\n",
    "## Tutorials\n",
    "\n",
    "### Getting started\n",
    "\n",
    "These interactive guides are a great introduction to the testbed.\n",
    "\n",
    "- [Bare Metal Experiment Pattern](https://chameleoncloud.org/experiment/share/370ce99a-3e03-43e9-83e3-b61fd9692dc0) — This is the most basic experiment pattern for Chameleon, and the easiest way to get started with the Jupyter interface.\n",
    "- [Data Management](https://chameleoncloud.org/experiment/share/3344dde1-13df-4578-86ca-73eeae00312c) — A rundown on all the different ways to manage your data on Chameleon.\n",
    "- [Orchestration](https://chameleoncloud.org/experiment/share/1e65381f-7a99-4fe1-9d6c-dac4f1c0531f) — Orchestrating resources with [Heat](https://docs.openstack.org/heat/latest/) templates.\n",
    "\n",
    "### Networking\n",
    "\n",
    "We have a guide which will get you started with networking on Chameleon.\n",
    "\n",
    "- [Chameleon User Guide: Networking](https://chameleoncloud.org/experiment/share/28ea44f8-fdfe-4477-aaeb-fe6b3a1a1e1a)"
   ]
  }
 ],
 "metadata": {
  "kernelspec": {
   "display_name": "Python 3",
   "language": "python",
   "name": "python3"
  },
  "language_info": {
   "codemirror_mode": {
    "name": "ipython",
    "version": 3
   },
   "file_extension": ".py",
   "mimetype": "text/x-python",
   "name": "python",
   "nbconvert_exporter": "python",
   "pygments_lexer": "ipython3",
   "version": "3.7.3"
  }
 },
 "nbformat": 4,
 "nbformat_minor": 2
}